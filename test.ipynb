{
 "cells": [
  {
   "cell_type": "markdown",
   "metadata": {},
   "source": [
    "Voici mon application :Analyseur de Cv.\n",
    "Le format du cv doit être .pdf \n",
    "Voici le chemin d'acces que vous devez changer pour analyser le pdf de votre choix"
   ]
  },
  {
   "cell_type": "code",
   "execution_count": 541,
   "metadata": {},
   "outputs": [],
   "source": [
    "cheminCV=\"cv-finance.pdf\""
   ]
  },
  {
   "cell_type": "markdown",
   "metadata": {},
   "source": [
    "Import des librairies et du modele d'entrainement puis de la fonction d'extraction du texte\n"
   ]
  },
  {
   "cell_type": "code",
   "execution_count": 542,
   "metadata": {},
   "outputs": [],
   "source": [
    "import spacy\n",
    "import pdfplumber\n",
    "from spacy.training.example import Example\n",
    "import json\n",
    "import re\n",
    "\n",
    "\n",
    "def extract_text_from_pdf(pdf_path):\n",
    "    with pdfplumber.open(pdf_path) as pdf:\n",
    "        text = \"\"\n",
    "        for page in pdf.pages:\n",
    "            text += page.extract_text(encoding='utf-8')  # Spécifie l'encodage\n",
    "    return text\n",
    "\n",
    "\n",
    "\n",
    "\n",
    "\n"
   ]
  },
  {
   "cell_type": "markdown",
   "metadata": {},
   "source": [
    "Fonction pour detecter le domaine d'activité"
   ]
  },
  {
   "cell_type": "code",
   "execution_count": 543,
   "metadata": {},
   "outputs": [],
   "source": [
    "def detect_domain(text):\n",
    "    domains = {\n",
    "        'Informatique': ['informatique',  'programmation', 'développement WEB', 'développement mobile',\n",
    "                        'intelligence artificielle', 'IA', 'machine learning', 'réseau', 'cybersécurité',\n",
    "                        'sécurité informatique', 'cyberdéfense', 'cyberattaque', 'cyberattaque',\n",
    "                        'cybercriminalité', 'cybercriminalité', 'cyberespionnage', 'cyberespionnage',\n",
    "                        'cyberterrorisme','programmation web', 'programmation mobile', 'programmation web','language de programmation',\n",
    "                        'programmation orientée objet', 'programmation procédurale', 'programmation fonctionnelle', \n",
    "                        'programmation impérative', 'programmation déclarative', 'programmation concurrente', 'programmation parallèle',\n",
    "                        'programmation logique', 'programmation générique', 'programmation événementielle', 'programmation réactive', \n",
    "                        'programmation structurée', 'programmation modulaire', 'program','Langages de programmations', 'langage de programmation','php','JS','java','python','c++','c#','ruby','swift','kotlin','scala','perl','rust','typescript','dart','sql','html','css','xml','json','yaml','markdown'],\n",
    "        'Commerce': ['commerce',  'marketing', 'vente', 'négociation', 'commerce international'],\n",
    "        'Finance': ['finance', 'comptabilité', 'économie', 'gestion financière'],\n",
    "        'Ressources Humaines': ['RH', 'ressources humaines', 'recrutement', 'formation'],\n",
    "        'Ingénierie': ['ingénierie', 'ingénieur', 'technique', 'conception'],\n",
    "        'Santé': ['santé', 'médical', 'soins', 'pharmacie'],\n",
    "        'Éducation': ['éducation', 'enseignement', 'pédagogie', 'formation'],\n",
    "        'Art et Culture': ['art', 'culture', 'musique', 'théâtre'],\n",
    "        'Administration': ['administration', 'gestion administrative', 'bureautique'],\n",
    "        'Environnement': ['environnement', 'écologie', 'développement durable'],\n",
    "        'Communication': ['communication', 'relations publiques', 'médias', 'journalisme'],\n",
    "        'Agriculture': ['agriculture', 'agronomie', 'agroalimentaire'],\n",
    "        'Tourisme': ['tourisme', 'voyage', 'hôtellerie', 'guidage'],\n",
    "        'Droit': ['droit', 'juridique', 'justice', 'avocat'],\n",
    "        'Transport et Logistique': ['transport', 'logistique', 'supply chain', 'entreposage']\n",
    "        # Ajoute d'autres domaines avec leurs mots-clés associés ici\n",
    "    }\n",
    "\n",
    "    text_lower = text.lower()\n",
    "    domain_count = {domain: 0 for domain in domains}\n",
    "\n",
    "    for domain, keywords in domains.items():\n",
    "        for keyword in keywords:\n",
    "            domain_count[domain] += text_lower.count(keyword)\n",
    "\n",
    "    sorted_domains = sorted(domain_count.items(), key=lambda x: x[1], reverse=True)\n",
    "    top_three_domains = sorted_domains[:3]\n",
    "\n",
    "    return top_three_domains"
   ]
  },
  {
   "cell_type": "markdown",
   "metadata": {},
   "source": [
    "Fonction pour detecter le numéro de téléphone"
   ]
  },
  {
   "cell_type": "code",
   "execution_count": 544,
   "metadata": {},
   "outputs": [],
   "source": [
    "\n",
    "def extract_phone_numbers(text):\n",
    "    phone_numbers = re.findall(r'\\b\\d{2}[-.\\s]?\\d{2}[-.\\s]?\\d{2}[-.\\s]?\\d{2}[-.\\s]?\\d{2}\\b', text)\n",
    "    return phone_numbers\n"
   ]
  },
  {
   "cell_type": "markdown",
   "metadata": {},
   "source": [
    "Fonction pour detecter le type de contrat"
   ]
  },
  {
   "cell_type": "code",
   "execution_count": 545,
   "metadata": {},
   "outputs": [],
   "source": [
    "def detect_contrat_type(text):\n",
    "    contrat_types = {\n",
    "        'Stage': ['stage', 'stage étudiant', 'stage de fin d\\'études'],\n",
    "        'Alternance': ['alternance'],\n",
    "        'CDD': ['cdd', 'contrat à durée déterminée'],\n",
    "        'CDI': ['cdi', 'contrat à durée indéterminée'],\n",
    "        # Ajoute d'autres types de contrat avec leurs mots-clés associés ici\n",
    "    }\n",
    "\n",
    "    text_lower = text.lower()\n",
    "\n",
    "    for contrat, keywords in contrat_types.items():\n",
    "        for keyword in keywords:\n",
    "            if keyword in text_lower:\n",
    "                return contrat\n",
    "\n",
    "    return None"
   ]
  },
  {
   "cell_type": "markdown",
   "metadata": {},
   "source": [
    "Fonction pour detecter l'adresse mail "
   ]
  },
  {
   "cell_type": "code",
   "execution_count": 546,
   "metadata": {},
   "outputs": [],
   "source": [
    "def extract_emails(text):\n",
    "    emails = re.findall(r'\\b[A-Za-z0-9._%+-]+@[A-Za-z0-9.-]+\\.[A-Z|a-z]{2,}\\b', text)\n",
    "    return emails\n"
   ]
  },
  {
   "cell_type": "markdown",
   "metadata": {},
   "source": [
    "Fonction pour detecter les langues parlés"
   ]
  },
  {
   "cell_type": "code",
   "execution_count": 547,
   "metadata": {},
   "outputs": [],
   "source": [
    "def extract_languages(text):\n",
    "    languages = re.findall(r'\\b(?:français|anglais|espagnol|allemand)\\b(?:\\s(?:A|B|C)\\d)?', text, flags=re.IGNORECASE)\n",
    "    return languages"
   ]
  },
  {
   "cell_type": "markdown",
   "metadata": {},
   "source": [
    "Fonction pour detecter les dates (a finir pour avoir les experience plus date reliés)"
   ]
  },
  {
   "cell_type": "code",
   "execution_count": 548,
   "metadata": {},
   "outputs": [],
   "source": [
    "def extract_date_ranges(text):\n",
    "    date_ranges = []\n",
    "    # Expressions régulières pour les séparateurs '-' et '_'\n",
    "    regex_dash = r'(?:Janvier|Février|Mars|Avril|Mai|Juin|Juillet|Août|Septembre|Octobre|Novembre|Décembre)\\s\\d{4}\\s-\\s(?:Janvier|Février|Mars|Avril|Mai|Juin|Juillet|Août|Septembre|Octobre|Novembre|Décembre)\\s\\d{4}'\n",
    "    regex_underscore = r'(?:Janvier|Février|Mars|Avril|Mai|Juin|Juillet|Août|Septembre|Octobre|Novembre|Décembre)\\s\\d{4}\\s_\\s(?:Janvier|Février|Mars|Avril|Mai|Juin|Juillet|Août|Septembre|Octobre|Novembre|Décembre)\\s\\d{4}'\n",
    "    regex_underscore_witout_space = r'(?:Janvier|Février|Mars|Avril|Mai|Juin|Juillet|Août|Septembre|Octobre|Novembre|Décembre)\\s\\d{4}_(?:Janvier|Février|Mars|Avril|Mai|Juin|Juillet|Août|Septembre|Octobre|Novembre|Décembre)\\s\\d{4}'\n",
    "    regex_dash_witout_space = r'(?:Janvier|Février|Mars|Avril|Mai|Juin|Juillet|Août|Septembre|Octobre|Novembre|Décembre)\\s\\d{4}-(?:Janvier|Février|Mars|Avril|Mai|Juin|Juillet|Août|Septembre|Octobre|Novembre|Décembre)\\s\\d{4}'\n",
    "    date_rangeM =r'(?:Janvier|Février|Mars|Avril|Mai|Juin|Juillet|Août|Septembre|Octobre|Novembre|Décembre)\\s\\d{4}\\s–\\s(?:Maintenant|(?:Janvier|Février|Mars|Avril|Mai|Juin|Juillet|Août|Septembre|Octobre|Novembre|Décembre)\\s\\d{4})'\n",
    "\n",
    "    # Recherche des plages de dates dans le texte\n",
    "    matches_dash = re.findall(regex_dash, text)\n",
    "    matches_underscore = re.findall(regex_underscore, text)\n",
    "    matches_underscore_witout_space = re.findall(regex_underscore_witout_space, text)\n",
    "    matches_dash_witout_space = re.findall(regex_dash_witout_space, text)\n",
    "    matches_date_rangeM = re.findall(date_rangeM, text)\n",
    "    # Ajout des résultats des deux expressions régulières dans un seul tableau\n",
    "    date_ranges.extend(matches_underscore_witout_space)\n",
    "    date_ranges.extend(matches_underscore)\n",
    "    date_ranges.extend(matches_dash)\n",
    "    date_ranges.extend(matches_dash_witout_space)\n",
    "    date_ranges.extend(matches_date_rangeM)\n",
    "\n",
    "    return date_ranges"
   ]
  },
  {
   "cell_type": "markdown",
   "metadata": {},
   "source": [
    "Fonction pour détecter une adresse "
   ]
  },
  {
   "cell_type": "code",
   "execution_count": 549,
   "metadata": {},
   "outputs": [],
   "source": [
    "\n",
    "def detect_addresses(text):\n",
    "    # Expression régulière pour détecter une adresse française avec le style donné\n",
    "    address_pattern = r'\\b\\d{1,4}(?:[,\\s]+)?(?:\\w+[,\\s]+){1,3}(?:rue|avenue|boulevard|chemin|impasse|allée|place|route|quai)\\b[\\s,]+\\b\\w+\\b.*?(?=[\\n.,]|$)'\n",
    "\n",
    "\n",
    "    # Recherche des adresses dans le texte\n",
    "    addresses = re.findall(address_pattern, text, flags=re.IGNORECASE)\n",
    "\n",
    "    return addresses\n",
    "\n",
    "\n",
    "\n",
    "def detect_postal_codes(text):\n",
    "   # Expression régulière pour détecter les lignes contenant un code postal à cinq chiffres\n",
    "    postal_code_pattern = r'(\\b\\d{5}\\b.*?)(?=[\\n.,]|$)'\n",
    "\n",
    "    # Recherche des lignes avec code postal dans le texte\n",
    "    lines_with_postal_codes = re.findall(postal_code_pattern, text, flags=re.IGNORECASE | re.DOTALL)\n",
    "\n",
    "    return lines_with_postal_codes\n",
    "\n"
   ]
  },
  {
   "cell_type": "markdown",
   "metadata": {},
   "source": [
    "Affichage du texte extrait"
   ]
  },
  {
   "cell_type": "code",
   "execution_count": 550,
   "metadata": {},
   "outputs": [
    {
     "name": "stdout",
     "output_type": "stream",
     "text": [
      "12 rue de la Réussite\n",
      "Da mien\n",
      "75012 Paris\n",
      "LAFINANCE\n",
      "01 02 03 04 05\n",
      "06 01 02 03 04\n",
      "Je s uis a la recherche d’un CDD de 5 moins monemail@mail.com\n",
      "mi nimun www.monsiteweb.com\n",
      "FORMATION PROFIL\n",
      "JANV 2014 – FEB 2016 Avec 10 ans d'expérience en analyse financière et une expertise en modélisation financière,\n",
      "ISTEC PARIS évaluation d'entreprises et gestion de risques, je suis un analyste financier compétent et\n",
      "MASTER EN FINANCE ET GESTION D’ENTREPRISE rigoureux, capable de fournir des analyses précises et des recommandations éclairées pour\n",
      "Stage d’analyste financier, Société Générale aider les entreprises à atteindre leurs objectifs financiers à long terme\n",
      "Corporate & Investment Banking, Paris, France\n",
      "(été 2015)\n",
      "EXPERIENCES PROFESSIONNELLES\n",
      "APR 2012 – JULY 2016\n",
      "UNIVERSITE PARIS-DAUPHINE\n",
      "DEPUIS JUIN 2018\n",
      "LICENCE D’ECONOMIE ET GESTION\n",
      "ANALYSTITE FINANCIER PRINCIPAL\n",
      "Analyste financier stagiaire, Rothschild & Co, Paris, GOLMAN SACHS, LONDRES, RU\n",
      "France (été 2016) • Effectue des analyses financières pour soutenir les opérations de fusions et\n",
      "acquisitions, les introductions en bourse et les investissements en capital-\n",
      "investissement\n",
      "• Évalue les performances financières des entreprises, y compris les flux de trésorerie,\n",
      "QUALITES les ratios financiers et les indicateurs clés de performance\n",
      "• Prépare des présentations et des rapports détaillés pour les clients et les\n",
      "investisseurs, en fournissant des recommandations et des stratégies\n",
      "Rigueur d'investissement claires\n",
      "• Dirige et coordonne des équipes de professionnels pour assurer des résultats de\n",
      "Curiosité qualité supérieure et des délais respectés\n",
      "Esprit critique\n",
      "2014-2018\n",
      "ANALYSTITE FINANCIER SENIOR\n",
      "Intégrité\n",
      "JP MORGAN & SCHASE, NEW-YORK, USA\n",
      "Persévérance • Conduit des analyses approfondies de l'industrie, des concurrents et des marchés pour\n",
      "soutenir les décisions d'investissement et les stratégies de croissance des entreprises\n",
      "Adaptabilité • Évalue les risques financiers et identifie les opportunités d'investissement pour les\n",
      "clients institutionnels et les particuliers à fort patrimoine\n",
      "• Élabore des modèles financiers sophistiqués pour évaluer la performance des\n",
      "entreprises, les évaluations de la dette et les projections de flux de trésorerie\n",
      "COMPETENCES • Prépare des présentations pour les clients institutionnels et les particuliers à fort\n",
      "patrimoine, y compris des rapports détaillés sur les performances financières et les\n",
      "recommandations d'investissement\n",
      "o Capacité à comprendre et analyser les\n",
      "états financiers des entreprises\n",
      "2012 - 2014\n",
      "o Capacité à créer des modèles financiers\n",
      "ANALYSTITE FINANCIER\n",
      "sophistiqués\n",
      "MORGAN STANLEY, PARIS, FR\n",
      "o Capacité à évaluer la valeur des\n",
      "• Effectue des analyses financières pour soutenir les opérations de fusions et\n",
      "entreprises acquisitions, les introductions en bourse et les investissements en capital-\n",
      "o Gestion de portefeuille d'investissement investissement\n",
      "• Évalue les performances financières des entreprises, y compris les flux de trésorerie,\n",
      "o Connaissance des marchés financiers\n",
      "les ratios financiers et les indicateurs clés de performance\n",
      "o Capacité à gérer plusieurs projets en\n",
      "• Assiste les associés et les directeurs dans la préparation de présentations pour les\n",
      "même temps, en respectant les délais et clients et les investisseurs, en fournissant des recommandations et des stratégies\n",
      "les budgets impartis. d'investissement claires\n",
      "• Collabore avec les autres membres de l'équipe pour assurer des résultats de qualité\n",
      "supérieure et des délais respectés\n",
      "HOBBIES\n",
      "Investissement Footing (Marathon)\n",
      "Suivi de l’actualité Eco Bénévolat\n",
      "Voyages TIC\n"
     ]
    }
   ],
   "source": [
    "pdf_path = cheminCV  # Remplacez ceci par votre chemin\n",
    "extracted_text = extract_text_from_pdf(pdf_path)\n",
    "print(extracted_text)"
   ]
  },
  {
   "cell_type": "markdown",
   "metadata": {},
   "source": [
    "Code pour entrainer l'analyseur de PDF"
   ]
  },
  {
   "cell_type": "code",
   "execution_count": 551,
   "metadata": {},
   "outputs": [],
   "source": [
    "\n",
    "# # Lecture des données annotées pour l'entraînement du modèle\n",
    "# with open('train_data.json', 'r', encoding='utf-8') as file:\n",
    "#     training_data = json.load(file)\n",
    "\n",
    "# # Entraînement du modèle SpaCy\n",
    "# nlp = spacy.blank(\"fr\")\n",
    "# ner = nlp.add_pipe(\"ner\", last=True)\n",
    "\n",
    "# # Ajout des labels, y compris les nouveaux labels \"EMAIL\", \"TELEPHONE\" et \"COMPETENCE\"\n",
    "# ner.add_label(\"PER\")\n",
    "# ner.add_label(\"EXP\")\n",
    "# ner.add_label(\"DATE\")\n",
    "# ner.add_label(\"EMAIL\")\n",
    "# ner.add_label(\"TELEPHONE\")\n",
    "# ner.add_label(\"COMPETENCE\")\n",
    "\n",
    "# # Création des exemples pour l'entraînement du modèle\n",
    "# examples = []\n",
    "# for data in training_data:\n",
    "#     text = data[\"text\"]\n",
    "#     entities = []\n",
    "#     for entity in data[\"entities\"]:\n",
    "#         start, end, label = entity[\"start\"], entity[\"end\"], entity[\"label\"]\n",
    "#         entities.append((start, end, label))\n",
    "#     examples.append(Example.from_dict(nlp.make_doc(text), {\"entities\": entities}))\n",
    "\n",
    "# # Entraînement du modèle\n",
    "# nlp.initialize(lambda: examples)\n",
    "# for i in range(10):  # Nombre d'itérations d'entraînement\n",
    "#     losses = {}\n",
    "#     nlp.update(examples, drop=0.5, losses=losses)\n",
    "#     print(losses)\n",
    "\n",
    "# # Sauvegarde du modèle entraîné\n",
    "# nlp.to_disk(\"modele_cv\")\n",
    "# # Chargement du modèle SpaCy entraîné\n",
    "# nlp_loaded = spacy.load(\"modele_cv\")\n",
    "\n",
    "\n"
   ]
  },
  {
   "cell_type": "code",
   "execution_count": 552,
   "metadata": {},
   "outputs": [],
   "source": [
    "# # Extraction des informations du nouveau CV\n",
    "# pdf_path = \"CV-14.pdf\"\n",
    "# cv_text = extract_text_from_pdf(pdf_path)\n",
    "# doc = nlp_loaded(cv_text)\n",
    "\n",
    "# # Affichage des entités extraites du CV\n",
    "# for ent in doc.ents:\n",
    "#     print(ent.text, ent.label_)"
   ]
  },
  {
   "cell_type": "markdown",
   "metadata": {},
   "source": [
    "text extraction mail et telephone"
   ]
  },
  {
   "cell_type": "code",
   "execution_count": 553,
   "metadata": {},
   "outputs": [
    {
     "name": "stdout",
     "output_type": "stream",
     "text": [
      "Numéros de téléphone trouvés :\n",
      "['01 02 03 04 05', '06 01 02 03 04']\n",
      "\n",
      "Adresses e-mail trouvées :\n",
      "['monemail@mail.com']\n",
      "\n",
      "Langues parlées :\n",
      "[]\n",
      "Plages de dates trouvées : []\n",
      "classement des domaines :\n",
      "Art et Culture: 3 occurrence(s)\n",
      "Finance: 2 occurrence(s)\n",
      "Type de contrat détecté : Stage\n",
      "Adresses françaises avec code postal trouvées :\n",
      "12 rue de la Réussite\n",
      "Codes postaux détectés + ville :\n",
      "75012 Paris\n"
     ]
    }
   ],
   "source": [
    "phone_numbers = extract_phone_numbers(extracted_text)\n",
    "emails = extract_emails(extracted_text)\n",
    "\n",
    "\n",
    "print(\"Numéros de téléphone trouvés :\")\n",
    "print(phone_numbers)\n",
    "\n",
    "\n",
    "print(\"\\nAdresses e-mail trouvées :\")\n",
    "print(emails)\n",
    "\n",
    "\n",
    "\n",
    "print(\"\\nLangues parlées :\")\n",
    "print(extract_languages(extracted_text))\n",
    "\n",
    "\n",
    "dates = extract_date_ranges(extracted_text)\n",
    "print(\"Plages de dates trouvées :\", dates)\n",
    "\n",
    "\n",
    "\n",
    "top_domains = detect_domain(extracted_text)\n",
    "\n",
    "if top_domains:\n",
    "    print(\"classement des domaines :\")\n",
    "    for domain, count in top_domains:\n",
    "        if(count>1):\n",
    "         print(f\"{domain}: {count} occurrence(s)\")\n",
    "else:\n",
    "    print(\"Aucun domaine identifié.\")\n",
    "\n",
    "\n",
    "\n",
    "\n",
    "\n",
    "    # Utilisation de la fonction pour détecter le type de contrat dans le texte extrait\n",
    "contrat_detected = detect_contrat_type(extracted_text)\n",
    "\n",
    "# Affichage du type de contrat détecté\n",
    "if contrat_detected:\n",
    "    print(f\"Type de contrat détecté : {contrat_detected}\")\n",
    "else:\n",
    "    print(\"Type de contrat non identifié.\")\n",
    "\n",
    "\n",
    "\n",
    "\n",
    "\n",
    "# Utilisation de la fonction pour détecter les adresses avec code postal dans le texte extrait\n",
    "addresses_detected = detect_addresses(extracted_text)\n",
    "\n",
    "# Affichage des adresses détectées avec code postal\n",
    "if addresses_detected:\n",
    "    print(\"Adresses françaises avec code postal trouvées :\")\n",
    "    for address in addresses_detected:\n",
    "        print(address)\n",
    "else:\n",
    "    print(\"Aucune adresse française identifiée.\")\n",
    "    # Utilisation de la fonction pour détecter les codes postaux dans le texte extrait\n",
    "postal_codes_detected = detect_postal_codes(extracted_text)\n",
    "\n",
    "# Affichage des codes postaux détectés\n",
    "if postal_codes_detected:\n",
    "    print(\"Codes postaux détectés + ville :\")\n",
    "    for postal_code in postal_codes_detected:\n",
    "        print(postal_code)\n",
    "else:\n",
    "    print(\"Aucun code postal identifié.\")\n"
   ]
  }
 ],
 "metadata": {
  "kernelspec": {
   "display_name": "Python 3",
   "language": "python",
   "name": "python3"
  },
  "language_info": {
   "codemirror_mode": {
    "name": "ipython",
    "version": 3
   },
   "file_extension": ".py",
   "mimetype": "text/x-python",
   "name": "python",
   "nbconvert_exporter": "python",
   "pygments_lexer": "ipython3",
   "version": "3.11.2"
  }
 },
 "nbformat": 4,
 "nbformat_minor": 2
}
