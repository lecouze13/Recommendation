{
 "cells": [
  {
   "cell_type": "code",
   "execution_count": 2,
   "metadata": {},
   "outputs": [
    {
     "ename": "ModuleNotFoundError",
     "evalue": "No module named 'fitz'",
     "output_type": "error",
     "traceback": [
      "\u001b[1;31m---------------------------------------------------------------------------\u001b[0m",
      "\u001b[1;31mModuleNotFoundError\u001b[0m                       Traceback (most recent call last)",
      "Cell \u001b[1;32mIn[2], line 1\u001b[0m\n\u001b[1;32m----> 1\u001b[0m \u001b[38;5;28;01mimport\u001b[39;00m \u001b[38;5;21;01mfitz\u001b[39;00m  \u001b[38;5;66;03m# PyMuPDF\u001b[39;00m\n\u001b[0;32m      2\u001b[0m \u001b[38;5;28;01mimport\u001b[39;00m \u001b[38;5;21;01mtextrazor\u001b[39;00m\n\u001b[0;32m      4\u001b[0m \u001b[38;5;28;01mdef\u001b[39;00m \u001b[38;5;21mlire_pdf\u001b[39m(chemin_pdf):\n\u001b[0;32m      5\u001b[0m     \u001b[38;5;66;03m# Ouvrir le fichier PDF\u001b[39;00m\n",
      "\u001b[1;31mModuleNotFoundError\u001b[0m: No module named 'fitz'"
     ]
    }
   ],
   "source": [
    "import fitz  # PyMuPDF\n",
    "import textrazor\n",
    "\n",
    "def lire_pdf(chemin_pdf):\n",
    "    # Ouvrir le fichier PDF\n",
    "    document = fitz.open(chemin_pdf)\n",
    "\n",
    "    # Initialiser une chaîne pour stocker le contenu du PDF\n",
    "    contenu_pdf = \"\"\n",
    "\n",
    "    # Parcourir les pages du PDF\n",
    "    for page_num in range(document.page_count):\n",
    "        # Obtenir la page\n",
    "        page = document[page_num]\n",
    "\n",
    "        # Extraire le texte de la page\n",
    "        texte_page = page.get_text()\n",
    "\n",
    "        # Ajouter le texte de la page à la variable de contenu\n",
    "        contenu_pdf += texte_page\n",
    "\n",
    "    # Fermer le document\n",
    "    document.close()\n",
    "\n",
    "    return contenu_pdf\n",
    "\n",
    "# Exemple d'utilisation\n",
    "chemin_du_pdf = \"CV.pdf\"\n",
    "contenu_du_pdf = lire_pdf(chemin_du_pdf)\n",
    "\n",
    "# Afficher le contenu du PDF\n",
    "print(contenu_du_pdf)"
   ]
  },
  {
   "cell_type": "code",
   "execution_count": null,
   "metadata": {},
   "outputs": [],
   "source": [
    "\n",
    "textrazor.api_key = \"badeba48e3e6575fd8253ac5c6fa742b802899118af87174f23b32f4\"\n",
    "\n",
    "\n",
    "client = textrazor.TextRazor(extractors=[\"entities\", \"topics\"])\n",
    "response = client.analyze_url(\"http://www.bbc.co.uk/news/uk-politics-18640916\")\n",
    "\n",
    "for entity in response.entities():\n",
    "    print(entity.id, entity.relevance_score, entity.confidence_score, entity.freebase_types)"
   ]
  }
 ],
 "metadata": {
  "kernelspec": {
   "display_name": "Python 3",
   "language": "python",
   "name": "python3"
  },
  "language_info": {
   "codemirror_mode": {
    "name": "ipython",
    "version": 3
   },
   "file_extension": ".py",
   "mimetype": "text/x-python",
   "name": "python",
   "nbconvert_exporter": "python",
   "pygments_lexer": "ipython3",
   "version": "3.11.2"
  }
 },
 "nbformat": 4,
 "nbformat_minor": 2
}
