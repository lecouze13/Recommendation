{
 "cells": [
  {
   "cell_type": "code",
   "execution_count": 41,
   "metadata": {},
   "outputs": [
    {
     "name": "stdout",
     "output_type": "stream",
     "text": [
      "Lorenzo GEANO\n",
      "DDUTe mgénaien édleect rdi qeue s ett age de 6 mois\n",
      "informatique industrielle IUT\n",
      "(de février à août)\n",
      "St Jérome\n",
      "Recherche de\n",
      "stage\n",
      "INFORMATIONS  MA FORMATION / MES DIPLÔMES\n",
      "PERSONNELLES\n",
      "Ecole d’ingénieur\n",
      "Né le 30/06/2000\n",
      "Etablissement : Polytech Luminy (Marseille)\n",
      "23ans Date : Septembre 4, 2021 – Septembre 2024\n",
      "DUT GEII\n",
      "Etablissement : IUT St Jérôme (Marseille,13013)\n",
      "48 traverses des Date : Septembre 4, 2018 - Septembre 2020\n",
      "écoles 13011\n",
      "Marseille,France\n",
      " COMPÉTENCES\n",
      "Language :\n",
      "- Anglais\n",
      "-Espagnol ,Italien\n",
      "0687601273\n",
      "- TOEIC Anglais score : 905/990\n",
      "lorenzogeano.pro Langages de programmations : HTML****, javascript ****, CSS ****,\n",
      "PHP****, MySQL****, Angular****, ReactsJS***, C***, C++**,\n",
      "@gmail.com\n",
      "NodeJS (Express)**, Java**\n",
      " MES ÉXPERIENCES\n",
      "QUALITÉS\n",
      "Magasinier a la CGED (stage) de 5 semaines.\n",
      "-Patient Equipier Polyvalent à McDonalds (février 2022 - aout 2022).\n",
      "-Calme\n",
      "Stage assistant ingénieur au CNRS (juin2023 – aout 2023).\n",
      "-Rationnel\n",
      "Implémentation d’une interface permettant l’ajout, la modification et la\n",
      "-Curieux\n",
      "suppression des données dans une BDD.\n",
      "-Autonome\n",
      "Création -d’une application web de sport en ReactJs.\n",
      "P\n",
      "https://app-sport-geano.netlify.app/sport\n",
      "a\n",
      "(C.R.U.D: ReactsJs, Nodejs (Express), MySQL).\n",
      "t\n",
      "i\n",
      "Création d’une application web de cuisine.\n",
      "e\n",
      "https://recnettelolo.netlify.app/\n",
      "(Angular,c PHP)\n",
      "e\n",
      " CEN-TRES D’INTERÊT\n",
      "C\n",
      "Sport ,nutrition, cuisine, jardinage.\n",
      "a\n",
      "l\n",
      "m\n",
      "e\n",
      "-\n",
      "R\n"
     ]
    }
   ],
   "source": [
    "import spacy\n",
    "from spacy.training.example import Example\n",
    "import pdfplumber\n",
    "from spacy.training import offsets_to_biluo_tags\n",
    "\n",
    "# Fonction pour extraire le texte d'un PDF\n",
    "def extract_text_from_pdf(pdf_path):\n",
    "    with pdfplumber.open(pdf_path) as pdf:\n",
    "        text = \"\"\n",
    "        for page in pdf.pages:\n",
    "            text += page.extract_text(encoding='utf-8')  # Spécifie l'encodage\n",
    "    return text\n",
    "\n",
    "# Charger le modèle SpaCy pour la langue française ou un modèle pré-entraîné\n",
    "nlp_telephone = spacy.blank(\"fr\")\n",
    "\n",
    "# Entraîner le modèle avec les données annotées pour \"TELEPHONE\"\n",
    "# Créer un nouvel entity recognizer\n",
    "ner = nlp_telephone.add_pipe(\"ner\")\n",
    "\n",
    "# Ajouter l'étiquette \"TELEPHONE\" à l'entity recognizer\n",
    "ner.add_label(\"TELEPHONE\")\n",
    "# Charger le modèle SpaCy pour la langue française ou un modèle pré-entraîné\n",
    "nlp_personne = spacy.blank(\"fr\")\n",
    "\n",
    "\n",
    "\n",
    "\n",
    "# Chemin vers votre CV au format PDF\n",
    "pdf_path = \"CV.pdf\"\n",
    "cv_text = extract_text_from_pdf(pdf_path)\n",
    " \n",
    "print(cv_text)\n",
    "\n",
    "\n"
   ]
  },
  {
   "cell_type": "code",
   "execution_count": 42,
   "metadata": {},
   "outputs": [],
   "source": [
    "label_data_telephone = [\n",
    "    {\"text\": \"Mon numéro est le 1234567890.\", \"entities\": [(15, 25, \"TELEPHONE\")]},\n",
    "    {\"text\": \"Appelez-moi au 0 98 76 54 321.\", \"entities\": [(13, 28, \"TELEPHONE\")]},\n",
    "    {\"text\": \"Contactez-moi au 0123456789.\", \"entities\": [(14, 24, \"TELEPHONE\")]},\n",
    "    {\"text\": \"Son numéro est 987-654-3210.\", \"entities\": [(17, 29, \"TELEPHONE\")]},\n",
    "    {\"text\": \"Le téléphone est 555.123.4567.\", \"entities\": [(18, 31, \"TELEPHONE\")]},\n",
    "    {\"text\": \"Mon numéro personnel est le 06 87 60 12 73.\", \"entities\": [(34, 49, \"TELEPHONE\")]},\n",
    "    {\"text\": \"Mon numéro professionnel est le 01 23 45 67 89.\", \"entities\": [(36, 51, \"TELEPHONE\")]},\n",
    "    {\"text\": \"Mon numéro de téléphone est le 0123456789.\", \"entities\": [(32, 42, \"TELEPHONE\")]},\n",
    "    {\"text\": \"Mon numéro de téléphone est le 01 23 45 67 89.\", \"entities\": [(32, 47, \"TELEPHONE\")]},\n",
    "    {\"text\": \"Mon numéro de téléphone est le 0485435365.\", \"entities\": [(32, 42, \"TELEPHONE\")]},\n",
    "    {\"text\": \"0687601273\", \"entities\": [(0,9, \"TELEPHONE\")]},\n",
    "    # Ajoutez d'autres exemples annotés pour \"TELEPHONE\" ici\n",
    "]"
   ]
  },
  {
   "cell_type": "markdown",
   "metadata": {},
   "source": [
    "Entrainement tel"
   ]
  },
  {
   "cell_type": "code",
   "execution_count": 43,
   "metadata": {},
   "outputs": [
    {
     "ename": "KeyError",
     "evalue": "\"[E022] Could not find a transition with the name 'O' in the NER model.\"",
     "output_type": "error",
     "traceback": [
      "\u001b[1;31m---------------------------------------------------------------------------\u001b[0m",
      "\u001b[1;31mKeyError\u001b[0m                                  Traceback (most recent call last)",
      "Cell \u001b[1;32mIn[43], line 5\u001b[0m\n\u001b[0;32m      3\u001b[0m     doc \u001b[38;5;241m=\u001b[39m nlp_telephone\u001b[38;5;241m.\u001b[39mmake_doc(example[\u001b[38;5;124m\"\u001b[39m\u001b[38;5;124mtext\u001b[39m\u001b[38;5;124m\"\u001b[39m])\n\u001b[0;32m      4\u001b[0m     example \u001b[38;5;241m=\u001b[39m Example\u001b[38;5;241m.\u001b[39mfrom_dict(doc, example)\n\u001b[1;32m----> 5\u001b[0m     \u001b[43mnlp_telephone\u001b[49m\u001b[38;5;241;43m.\u001b[39;49m\u001b[43mupdate\u001b[49m\u001b[43m(\u001b[49m\u001b[43m[\u001b[49m\u001b[43mexample\u001b[49m\u001b[43m]\u001b[49m\u001b[43m,\u001b[49m\u001b[43m \u001b[49m\u001b[43mdrop\u001b[49m\u001b[38;5;241;43m=\u001b[39;49m\u001b[38;5;241;43m0.5\u001b[39;49m\u001b[43m)\u001b[49m\n\u001b[0;32m      7\u001b[0m \u001b[38;5;66;03m# Chemin vers votre CV au format PDF\u001b[39;00m\n\u001b[0;32m      8\u001b[0m pdf_path \u001b[38;5;241m=\u001b[39m \u001b[38;5;124m\"\u001b[39m\u001b[38;5;124mCV.pdf\u001b[39m\u001b[38;5;124m\"\u001b[39m\n",
      "File \u001b[1;32mc:\\Users\\FiercePC\\AppData\\Local\\Programs\\Python\\Python311\\Lib\\site-packages\\spacy\\language.py:1193\u001b[0m, in \u001b[0;36mLanguage.update\u001b[1;34m(self, examples, _, drop, sgd, losses, component_cfg, exclude, annotates)\u001b[0m\n\u001b[0;32m   1190\u001b[0m \u001b[38;5;28;01mfor\u001b[39;00m name, proc \u001b[38;5;129;01min\u001b[39;00m \u001b[38;5;28mself\u001b[39m\u001b[38;5;241m.\u001b[39mpipeline:\n\u001b[0;32m   1191\u001b[0m     \u001b[38;5;66;03m# ignore statements are used here because mypy ignores hasattr\u001b[39;00m\n\u001b[0;32m   1192\u001b[0m     \u001b[38;5;28;01mif\u001b[39;00m name \u001b[38;5;129;01mnot\u001b[39;00m \u001b[38;5;129;01min\u001b[39;00m exclude \u001b[38;5;129;01mand\u001b[39;00m \u001b[38;5;28mhasattr\u001b[39m(proc, \u001b[38;5;124m\"\u001b[39m\u001b[38;5;124mupdate\u001b[39m\u001b[38;5;124m\"\u001b[39m):\n\u001b[1;32m-> 1193\u001b[0m         \u001b[43mproc\u001b[49m\u001b[38;5;241;43m.\u001b[39;49m\u001b[43mupdate\u001b[49m\u001b[43m(\u001b[49m\u001b[43mexamples\u001b[49m\u001b[43m,\u001b[49m\u001b[43m \u001b[49m\u001b[43msgd\u001b[49m\u001b[38;5;241;43m=\u001b[39;49m\u001b[38;5;28;43;01mNone\u001b[39;49;00m\u001b[43m,\u001b[49m\u001b[43m \u001b[49m\u001b[43mlosses\u001b[49m\u001b[38;5;241;43m=\u001b[39;49m\u001b[43mlosses\u001b[49m\u001b[43m,\u001b[49m\u001b[43m \u001b[49m\u001b[38;5;241;43m*\u001b[39;49m\u001b[38;5;241;43m*\u001b[39;49m\u001b[43mcomponent_cfg\u001b[49m\u001b[43m[\u001b[49m\u001b[43mname\u001b[49m\u001b[43m]\u001b[49m\u001b[43m)\u001b[49m  \u001b[38;5;66;03m# type: ignore\u001b[39;00m\n\u001b[0;32m   1194\u001b[0m     \u001b[38;5;28;01mif\u001b[39;00m sgd \u001b[38;5;129;01mnot\u001b[39;00m \u001b[38;5;129;01min\u001b[39;00m (\u001b[38;5;28;01mNone\u001b[39;00m, \u001b[38;5;28;01mFalse\u001b[39;00m):\n\u001b[0;32m   1195\u001b[0m         \u001b[38;5;28;01mif\u001b[39;00m (\n\u001b[0;32m   1196\u001b[0m             name \u001b[38;5;129;01mnot\u001b[39;00m \u001b[38;5;129;01min\u001b[39;00m exclude\n\u001b[0;32m   1197\u001b[0m             \u001b[38;5;129;01mand\u001b[39;00m \u001b[38;5;28misinstance\u001b[39m(proc, ty\u001b[38;5;241m.\u001b[39mTrainableComponent)\n\u001b[0;32m   1198\u001b[0m             \u001b[38;5;129;01mand\u001b[39;00m proc\u001b[38;5;241m.\u001b[39mis_trainable\n\u001b[0;32m   1199\u001b[0m             \u001b[38;5;129;01mand\u001b[39;00m proc\u001b[38;5;241m.\u001b[39mmodel \u001b[38;5;129;01mnot\u001b[39;00m \u001b[38;5;129;01min\u001b[39;00m (\u001b[38;5;28;01mTrue\u001b[39;00m, \u001b[38;5;28;01mFalse\u001b[39;00m, \u001b[38;5;28;01mNone\u001b[39;00m)\n\u001b[0;32m   1200\u001b[0m         ):\n",
      "File \u001b[1;32mc:\\Users\\FiercePC\\AppData\\Local\\Programs\\Python\\Python311\\Lib\\site-packages\\spacy\\pipeline\\transition_parser.pyx:411\u001b[0m, in \u001b[0;36mspacy.pipeline.transition_parser.Parser.update\u001b[1;34m()\u001b[0m\n",
      "File \u001b[1;32mc:\\Users\\FiercePC\\AppData\\Local\\Programs\\Python\\Python311\\Lib\\site-packages\\spacy\\pipeline\\transition_parser.pyx:671\u001b[0m, in \u001b[0;36mspacy.pipeline.transition_parser.Parser._init_gold_batch\u001b[1;34m()\u001b[0m\n",
      "File \u001b[1;32mc:\\Users\\FiercePC\\AppData\\Local\\Programs\\Python\\Python311\\Lib\\site-packages\\spacy\\pipeline\\_parser_internals\\ner.pyx:297\u001b[0m, in \u001b[0;36mspacy.pipeline._parser_internals.ner.BiluoPushDown.init_gold\u001b[1;34m()\u001b[0m\n",
      "File \u001b[1;32mc:\\Users\\FiercePC\\AppData\\Local\\Programs\\Python\\Python311\\Lib\\site-packages\\spacy\\pipeline\\_parser_internals\\ner.pyx:61\u001b[0m, in \u001b[0;36mspacy.pipeline._parser_internals.ner.BiluoGold.__init__\u001b[1;34m()\u001b[0m\n",
      "File \u001b[1;32mc:\\Users\\FiercePC\\AppData\\Local\\Programs\\Python\\Python311\\Lib\\site-packages\\spacy\\pipeline\\_parser_internals\\ner.pyx:89\u001b[0m, in \u001b[0;36mspacy.pipeline._parser_internals.ner.create_gold_state\u001b[1;34m()\u001b[0m\n",
      "File \u001b[1;32mc:\\Users\\FiercePC\\AppData\\Local\\Programs\\Python\\Python311\\Lib\\site-packages\\spacy\\pipeline\\_parser_internals\\ner.pyx:201\u001b[0m, in \u001b[0;36mspacy.pipeline._parser_internals.ner.BiluoPushDown.lookup_transition\u001b[1;34m()\u001b[0m\n",
      "\u001b[1;31mKeyError\u001b[0m: \"[E022] Could not find a transition with the name 'O' in the NER model.\""
     ]
    }
   ],
   "source": [
    "# Entraîner le modèle avec les exemples annotés\n",
    "for example in label_data_telephone:\n",
    "    doc = nlp_telephone.make_doc(example[\"text\"])\n",
    "    example = Example.from_dict(doc, example)\n",
    "    nlp_telephone.update([example], drop=0.5)\n",
    "\n",
    "# Chemin vers votre CV au format PDF\n",
    "pdf_path = \"CV.pdf\"\n",
    "cv_text = extract_text_from_pdf(pdf_path)\n",
    "\n",
    "# Traiter le texte extrait avec le modèle SpaCy entraîné\n",
    "doc_cv = nlp_telephone(cv_text)\n",
    "\n",
    "# Afficher les numéros de téléphone trouvés dans le CV\n",
    "for ent in doc_cv.ents:\n",
    "    if ent.label_ == \"TELEPHONE\":\n",
    "        print(ent.text)"
   ]
  },
  {
   "cell_type": "markdown",
   "metadata": {},
   "source": [
    "Entrainement perosonne"
   ]
  },
  {
   "cell_type": "code",
   "execution_count": null,
   "metadata": {},
   "outputs": [
    {
     "name": "stdout",
     "output_type": "stream",
     "text": [
      "Entités 'PERSONNE' trouvées : []\n",
      "Entités 'TELEPHONE' trouvées : []\n"
     ]
    }
   ],
   "source": [
    "# Utiliser le modèle SpaCy \"PERSONNE\" pour détecter les entités dans votre CV\n",
    "doc_personne = nlp_personne(cv_text)\n",
    "entities_personne = [(ent.text, ent.label_) for ent in doc_personne.ents]\n",
    "\n",
    "# Utiliser le modèle SpaCy \"TELEPHONE\" pour détecter les entités dans votre CV\n",
    "doc_telephone = nlp_telephone(cv_text)\n",
    "entities_telephone = [(ent.text, ent.label_) for ent in doc_telephone.ents]\n",
    "\n",
    "# Afficher les entités détectées dans votre CV pour \"PERSONNE\"\n",
    "print(f\"Entités 'PERSONNE' trouvées : {entities_personne}\")\n",
    "\n",
    "# Afficher les entités détectées dans votre CV pour \"TELEPHONE\"\n",
    "print(f\"Entités 'TELEPHONE' trouvées : {entities_telephone}\")"
   ]
  }
 ],
 "metadata": {
  "kernelspec": {
   "display_name": "Python 3",
   "language": "python",
   "name": "python3"
  },
  "language_info": {
   "codemirror_mode": {
    "name": "ipython",
    "version": 3
   },
   "file_extension": ".py",
   "mimetype": "text/x-python",
   "name": "python",
   "nbconvert_exporter": "python",
   "pygments_lexer": "ipython3",
   "version": "3.11.2"
  }
 },
 "nbformat": 4,
 "nbformat_minor": 2
}
